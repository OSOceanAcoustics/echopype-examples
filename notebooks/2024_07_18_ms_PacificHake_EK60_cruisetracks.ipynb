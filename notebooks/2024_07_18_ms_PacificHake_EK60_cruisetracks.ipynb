{
 "cells": [
  {
   "cell_type": "markdown",
   "metadata": {},
   "source": [
    "# Computing Krill NASC from the Pacific Hake survey"
   ]
  },
  {
   "cell_type": "markdown",
   "metadata": {},
   "source": [
    "Jupyter notebook accompanying the manuscript:\n",
    "\n",
    "_Echopype: A Python library for interoperable and scalable processing of ocean sonar data for biological information_   \n",
    "_Authors: Wu-Jung Lee, Emilio Mayorga, Landung Setiawan, Kavin Nguyen, Imran Majeed, Valentina Staneva, Caesar Tuguinay_\n",
    "\n",
    "## Introduction\n",
    "\n",
    "### Goals\n",
    "\n",
    "- Illustrate a common workflow for echosounder data: conversion -> calibration -> regridding -> freqeuncy differencing -> computing NASC. This workflow leverages the standardization applied by echopype and the power, ease of use and familiarity of libraries in the scientific Python ecosystem. \n",
    "- Extract and visualize data with relative ease using geospatial and temporal filters.\n",
    "\n",
    "### Description\n",
    "\n",
    "This notebook uses EK60 echosounder data collected during the [2017 Joint U.S.-Canada Integrated Ecosystem and Pacific Hake Acoustic Trawl Survey ('Pacific Hake Survey')](https://www.fisheries.noaa.gov/west-coast/science-data/joint-us-canada-integrated-ecosystem-and-pacific-hake-acoustic-trawl-survey) to illustrate a common workflow for data conversion, calibration and analysis using [`echopype`](https://echopype.readthedocs.io) and core scientific Python software packages, particularly `xarray`, `GeoPandas`, `pandas` and `NumPy`. \n",
    "\n",
    "Two days of cloud-hosted `.raw` data files are accessed by echopype directly from an [Amazon Web Services (AWS)](https://aws.amazon.com/) S3 \"bucket\" maintained by the [NOAA NCEI Water-Column Sonar Data Archive](https://registry.opendata.aws/ncei-wcsd-archive/). The total data used are 170 `.raw` files at approximately 25 MB each (1 Hz pinging rate from first light to dusk), corresponding to approximately 4.2 GB. With `echopype`, each file is converted to a standardized representation based on the [SONAR-netCDF4 v1.0 convention](https://github.com/ices-publications/SONAR-netCDF4/) and saved to the cloud-optimized [Zarr](https://zarr.readthedocs.io) format.\n",
    "\n",
    "Data stored in the netCDF-based SONAR-netCDF4 convention can be conveniently and intuitively manipulated with `xarray` in combination with related scientific Python packages. Zooplankton-specific Water Column NASC is computed with `echopype` from each raw data file and exported to a netCDF file. \n",
    "\n",
    "\n",
    "**TODO: Change this**\n",
    "Here, we define two geographical bounding boxes encompassing two ship tracks and use these to extract corresponding timestamp intervals from the GPS data, and then the corresponding MVBS data based on those intervals. Finally, these extracted MVBS subsets are plotted as track echograms.\n",
    "\n",
    "### Outline\n",
    "\n",
    "1) Convert EK60 RAW Files to Echodata Objects\n",
    "2) Combine Echodata Objects\n",
    "3) Calibrate Combined Echodata Object\n",
    "4) Regrid Calibrated Data\n",
    "5) Remove Empty Water from Regridded Calibrated Data\n",
    "6) Generate Frequency Difference Mask and Apply Mask on Non-Empty Water Regridded Calibrated Data\n",
    "7) Compute Water Column Krill NASC\n",
    "8) Plot Water Column Krill NASC on map\n",
    "\n",
    "### Running the notebook\n",
    "\n",
    "This notebook can be run with a conda environment created using the conda environment file https://github.com/OSOceanAcoustics/echopype-examples/blob/main/binder/environment.yml. The notebook creates a directory, if not already present: `./exports/hake_survey_echodata_zarr` Zarr files will be exported there.\n",
    "\n",
    "### Note\n",
    "We encourage importing `echopype` as `ep` for consistency."
   ]
  },
  {
   "cell_type": "code",
   "execution_count": 1,
   "metadata": {
    "tags": []
   },
   "outputs": [],
   "source": [
    "from pathlib import Path\n",
    "import os\n",
    "\n",
    "import fsspec\n",
    "import numpy as np\n",
    "import geopandas as gpd\n",
    "import xarray as xr\n",
    "\n",
    "import matplotlib.pyplot as plt\n",
    "from shapely.geometry import box\n",
    "import cartopy.crs as ccrs\n",
    "import cartopy.io.img_tiles as cimgt\n",
    "from cartopy.mpl.gridliner import LONGITUDE_FORMATTER, LATITUDE_FORMATTER\n",
    "from dask.distributed import Client\n",
    "\n",
    "import echopype as ep\n",
    "\n",
    "import warnings\n",
    "warnings.simplefilter(\"ignore\", category=DeprecationWarning)"
   ]
  },
  {
   "cell_type": "markdown",
   "metadata": {},
   "source": [
    "### Establish AWS S3 file system connection and generate list of target EK60 `.raw` files\n",
    "\n",
    "Access and inspect the publicly accessible NCEI WCSD S3 bucket on the AWS cloud as if it were a local file system. This will be done through the Python [fsspec](https://filesystem-spec.readthedocs.io) file system and bytes storage interface. We will use `fsspec.filesystem.glob` (`fs.glob`) to generate a list of all EK60 `.raw` data files in the bucket, then filter on file names for target dates of interest. \n",
    "\n",
    "The directory path on the [ncei-wcsd-archive S3 bucket](https://ncei-wcsd-archive.s3.amazonaws.com/index.html) is `s3://ncei-wcsd-archive/data/raw/Bell_M._Shimada/SH1707/EK60/`. All `.raw` files from the 2017 Hake survey cruise are found here."
   ]
  },
  {
   "cell_type": "code",
   "execution_count": 2,
   "metadata": {},
   "outputs": [
    {
     "name": "stdout",
     "output_type": "stream",
     "text": [
      "There are 170 target raw files available\n"
     ]
    }
   ],
   "source": [
    "# Setup filesystem\n",
    "fs = fsspec.filesystem('s3', anon=True)\n",
    "bucket = \"ncei-wcsd-archive\"\n",
    "rawdirpath = \"data/raw/Bell_M._Shimada/SH1707/EK60\"\n",
    "\n",
    "# Select the first 5 files from 2017 Hake Survey Cruise\n",
    "s3rawfiles = fs.glob(f\"{bucket}/{rawdirpath}/*.raw\")\n",
    "select_files = [\n",
    "    s3path for s3path in s3rawfiles \n",
    "    if any([f\"D2017{datestr}\" in s3path for datestr in ['0728', '0729']])\n",
    "]\n",
    "print(f\"There are {len(select_files)} target raw files available\")"
   ]
  },
  {
   "cell_type": "markdown",
   "metadata": {},
   "source": [
    "Create directories to store Zarr files:"
   ]
  },
  {
   "cell_type": "code",
   "execution_count": 3,
   "metadata": {},
   "outputs": [],
   "source": [
    "base_dpath = Path('./exports/hake_cruise_tracks')\n",
    "base_dpath.mkdir(exist_ok=True, parents=True)\n",
    "\n",
    "echodata_zarr_path = Path(base_dpath / 'hake_survey_echodata_zarr')\n",
    "echodata_zarr_path.mkdir(exist_ok=True)\n",
    "combined_zarr_path = Path(base_dpath / 'combined_zarr')\n",
    "combined_zarr_path.mkdir(exist_ok=True)"
   ]
  },
  {
   "cell_type": "markdown",
   "metadata": {},
   "source": [
    "### Dask Client Setup\n",
    "\n",
    "Echopype uses Dask in the background to lazily load, do out-of-memory and parallelized computation on large arrays. Dask Client helps schedule tasks and allocate memory for these large array computations."
   ]
  },
  {
   "cell_type": "code",
   "execution_count": 4,
   "metadata": {},
   "outputs": [
    {
     "name": "stdout",
     "output_type": "stream",
     "text": [
      "Dash Client Dashboard: http://127.0.0.1:8787/status\n"
     ]
    }
   ],
   "source": [
    "# Use maximum number of CPUs for Dask Client\n",
    "client = Client(n_workers=os.cpu_count())\n",
    "print(\"Dash Client Dashboard:\", client.dashboard_link)"
   ]
  },
  {
   "cell_type": "markdown",
   "metadata": {},
   "source": [
    "**Note:** The following Echopype parsing code follows a pattern of `to_zarr` and \"open zarr\". This patterns points computation to be done out-of-memory, and when this computation is done, it lazily-loads the recently computed arrays."
   ]
  },
  {
   "cell_type": "markdown",
   "metadata": {},
   "source": [
    "### Convert EK60 RAW Files to Echodata Objects"
   ]
  },
  {
   "cell_type": "code",
   "execution_count": 5,
   "metadata": {
    "scrolled": true,
    "tags": [
     "output_scroll"
    ]
   },
   "outputs": [
    {
     "name": "stdout",
     "output_type": "stream",
     "text": [
      "CPU times: user 12.4 s, sys: 2.22 s, total: 14.7 s\n",
      "Wall time: 50.8 s\n"
     ]
    }
   ],
   "source": [
    "%%time\n",
    "\n",
    "# Save Echodata objects locally\n",
    "def open_and_save(raw_file, sonar_model, use_swap, save_path, storage_options):\n",
    "    try:\n",
    "        ed = ep.open_raw(\n",
    "            raw_file=f's3://{raw_file}',\n",
    "            sonar_model=sonar_model,\n",
    "            use_swap=use_swap,\n",
    "            storage_options=storage_options,\n",
    "        )\n",
    "        ed.to_zarr(save_path, overwrite=True, compute=True)\n",
    "    except Exception as e:\n",
    "        print(\"Error with Exception: \", e)\n",
    "\n",
    "# Parse EK60 `.RAW` file and save to Zarr Store\n",
    "open_and_save_futures = []\n",
    "for raw_file_url in select_files:\n",
    "    open_and_save_future = client.submit(\n",
    "        open_and_save,\n",
    "        raw_file=raw_file_url,\n",
    "        sonar_model='ek60',\n",
    "        use_swap=True,\n",
    "        save_path=echodata_zarr_path,\n",
    "        storage_options={'anon': True}\n",
    "    )\n",
    "    open_and_save_futures.append(open_and_save_future)\n",
    "open_and_save_futures = client.gather(open_and_save_futures)"
   ]
  },
  {
   "cell_type": "markdown",
   "metadata": {},
   "source": [
    "### Combine Echodata Objects"
   ]
  },
  {
   "cell_type": "code",
   "execution_count": 6,
   "metadata": {},
   "outputs": [
    {
     "name": "stderr",
     "output_type": "stream",
     "text": [
      "/home/exouser/miniforge3/envs/echopype/lib/python3.9/site-packages/xarray/core/dataset.py:2548: SerializationWarning: saving variable None with floating point data as an integer dtype without any _FillValue to use for NaNs\n",
      "  return to_zarr(  # type: ignore[call-overload,misc]\n",
      "/home/exouser/miniforge3/envs/echopype/lib/python3.9/site-packages/dask/array/chunk.py:278: RuntimeWarning: invalid value encountered in cast\n",
      "  return x.astype(astype_dtype, **kwargs)\n"
     ]
    },
    {
     "name": "stdout",
     "output_type": "stream",
     "text": [
      "CPU times: user 3min 18s, sys: 15.1 s, total: 3min 33s\n",
      "Wall time: 4min 27s\n"
     ]
    }
   ],
   "source": [
    "%%time\n",
    "\n",
    "# Open Zarr Stores containing Echodata Objects, Lazy Load them, and Lazily Combine Echodata Objects\n",
    "ed_future_list = []\n",
    "for converted_file in sorted(echodata_zarr_path.glob(\"*.zarr\")):\n",
    "    ed_future = client.submit(    \n",
    "        ep.open_converted,\n",
    "        converted_raw_path=converted_file,\n",
    "        chunks={}\n",
    "    )\n",
    "    ed_future_list.append(ed_future)\n",
    "ed_list = client.gather(ed_future_list)\n",
    "ed_combined = ep.combine_echodata(ed_list)\n",
    "\n",
    "# Save to Zarr and offload computation to disk\n",
    "ed_combined.to_zarr(\n",
    "    combined_zarr_path / \"ed_combined.zarr\",\n",
    "    overwrite=True,\n",
    "    compute=True,\n",
    ")\n",
    "\n",
    "# Lazily Open Zarr\n",
    "ed_combined = ep.open_converted(\n",
    "    combined_zarr_path / \"ed_combined.zarr\",\n",
    "    chunks={},\n",
    ")"
   ]
  },
  {
   "cell_type": "markdown",
   "metadata": {},
   "source": [
    "### Calibrate Combined Echodata Object\n",
    "\n",
    "Compute Volume Backscattering Strength (Sv), remove background noise, and add depth and latitude/longitude to this Xarray Dataset."
   ]
  },
  {
   "cell_type": "code",
   "execution_count": 7,
   "metadata": {},
   "outputs": [
    {
     "name": "stderr",
     "output_type": "stream",
     "text": [
      "/home/exouser/miniforge3/envs/echopype/lib/python3.9/site-packages/distributed/client.py:3164: UserWarning: Sending large graph of size 11.08 MiB.\n",
      "This may cause some slowdown.\n",
      "Consider scattering data ahead of time and using futures.\n",
      "  warnings.warn(\n"
     ]
    },
    {
     "name": "stdout",
     "output_type": "stream",
     "text": [
      "CPU times: user 19.7 s, sys: 1.25 s, total: 21 s\n",
      "Wall time: 23.3 s\n"
     ]
    }
   ],
   "source": [
    "%%time\n",
    "\n",
    "# Chunk Echodata Object ping-wise\n",
    "ed_combined = ed_combined.chunk({\"ping_time\": 1000})\n",
    "\n",
    "# Compute Sv\n",
    "ds_Sv = ep.calibrate.compute_Sv(ed_combined)\n",
    "\n",
    "# Add Depth\n",
    "ds_Sv = ep.consolidate.add_depth(ds_Sv, depth_offset=9.15)\n",
    "\n",
    "# Add Latitude and Longitude\n",
    "ds_Sv = ep.consolidate.add_location(ds_Sv, ed_combined)\n",
    "\n",
    "# Save to Zarr and offload computation to disk\n",
    "ds_Sv.to_zarr(\n",
    "    combined_zarr_path / \"ds_Sv.zarr\",\n",
    "    mode=\"w\",\n",
    "    compute=True,\n",
    ")\n",
    "\n",
    "# Lazily Open Zarr\n",
    "ds_Sv = xr.open_dataset(\n",
    "    combined_zarr_path / \"ds_Sv.zarr\",\n",
    "    engine=\"zarr\",\n",
    "    chunks={},\n",
    ")"
   ]
  },
  {
   "cell_type": "markdown",
   "metadata": {},
   "source": [
    "### Regrid Calibrated Data\n",
    "\n",
    "Compute Mean Volume Backscattering Strength (MVBS)"
   ]
  },
  {
   "cell_type": "code",
   "execution_count": 8,
   "metadata": {},
   "outputs": [
    {
     "name": "stdout",
     "output_type": "stream",
     "text": [
      "CPU times: user 28.1 s, sys: 2.9 s, total: 31 s\n",
      "Wall time: 1min 6s\n"
     ]
    }
   ],
   "source": [
    "%%time\n",
    "# Compute MVBS\n",
    "ds_MVBS = ep.commongrid.compute_MVBS(\n",
    "    ds_Sv,\n",
    "    range_var=\"depth\",\n",
    "    range_bin='5m',  # in meters\n",
    "    ping_time_bin='20s',  # in seconds\n",
    ")\n",
    "\n",
    "# Save to Zarr and offload computation to disk\n",
    "ds_MVBS.to_zarr(\n",
    "    combined_zarr_path / \"ds_MVBS.zarr\",\n",
    "    mode=\"w\",\n",
    "    compute=True,\n",
    ")\n",
    "\n",
    "# Lazily Open Zarr\n",
    "ds_MVBS = xr.open_dataset(\n",
    "    combined_zarr_path / \"ds_MVBS.zarr\",\n",
    "    engine=\"zarr\",\n",
    "    chunks={},\n",
    ")"
   ]
  },
  {
   "cell_type": "markdown",
   "metadata": {},
   "source": [
    "### Remove Empty Water from Regridded Calibrated Data"
   ]
  },
  {
   "cell_type": "code",
   "execution_count": 9,
   "metadata": {},
   "outputs": [],
   "source": [
    "# Create copy of MVBS\n",
    "ds_non_empty_MVBS = ds_MVBS.copy()\n",
    "\n",
    "# Replace all Sv less -70 dB with NaN\n",
    "ds_non_empty_MVBS[\"Sv\"] = xr.where(ds_MVBS[\"Sv\"] < -70, np.nan, ds_MVBS[\"Sv\"])"
   ]
  },
  {
   "cell_type": "markdown",
   "metadata": {},
   "source": [
    "### Generate Frequency Difference Mask and Apply Mask on Non-Empty Water Regridded Calibrated Data\n",
    "\n",
    "Compute Frequency Differencing 16.2dB >= 120kHz - 38kHz >= 10.0dB to identify Krill."
   ]
  },
  {
   "cell_type": "code",
   "execution_count": 10,
   "metadata": {},
   "outputs": [],
   "source": [
    "# Compute compute both frequency differencing inequalities as separate masks\n",
    "freq_diff_mask_1 = ep.mask.frequency_differencing(\n",
    "    ds_non_empty_MVBS,\n",
    "    freqABEq=\"120000.0Hz - 38000.0Hz < 16.2dB\"\n",
    ")\n",
    "freq_diff_mask_2 = ep.mask.frequency_differencing(\n",
    "    ds_non_empty_MVBS,\n",
    "    freqABEq=\"120000.0Hz - 38000.0Hz > 10.0dB\"\n",
    ")\n",
    "\n",
    "# Apply both frequency differencing masks\n",
    "ds_freq_diff_MVBS = ep.mask.apply_mask(\n",
    "    ds_non_empty_MVBS,\n",
    "    [freq_diff_mask_1, freq_diff_mask_2]\n",
    ")"
   ]
  },
  {
   "cell_type": "markdown",
   "metadata": {},
   "source": [
    "### Compute Water Column Krill NASC\n",
    "\n",
    "Compute NASC with a distance bin of 0.5nmi and on the entire water column on the first 250m of the MVBS dataset."
   ]
  },
  {
   "cell_type": "code",
   "execution_count": 11,
   "metadata": {},
   "outputs": [
    {
     "name": "stderr",
     "output_type": "stream",
     "text": [
      "/home/exouser/miniforge3/envs/echopype/lib/python3.9/site-packages/distributed/client.py:3164: UserWarning: Sending large graph of size 11.41 MiB.\n",
      "This may cause some slowdown.\n",
      "Consider scattering data ahead of time and using futures.\n",
      "  warnings.warn(\n",
      "/home/exouser/miniforge3/envs/echopype/lib/python3.9/site-packages/distributed/client.py:3164: UserWarning: Sending large graph of size 11.41 MiB.\n",
      "This may cause some slowdown.\n",
      "Consider scattering data ahead of time and using futures.\n",
      "  warnings.warn(\n"
     ]
    }
   ],
   "source": [
    "# Compute NASC\n",
    "ds_freq_diff_NASC = ep.commongrid.compute_NASC(\n",
    "    # Grab only the first 250m in the MVBS\n",
    "    ds_freq_diff_MVBS.sel(depth=slice(0, 250)),\n",
    "    range_bin=\"250m\",\n",
    "    dist_bin=\"0.5nmi\"\n",
    ")"
   ]
  },
  {
   "cell_type": "markdown",
   "metadata": {},
   "source": [
    "### Plot Water Column Krill NASC on map"
   ]
  },
  {
   "cell_type": "code",
   "execution_count": 14,
   "metadata": {},
   "outputs": [
    {
     "name": "stderr",
     "output_type": "stream",
     "text": [
      "/home/exouser/miniforge3/envs/echopype/lib/python3.9/site-packages/distributed/client.py:3164: UserWarning: Sending large graph of size 11.41 MiB.\n",
      "This may cause some slowdown.\n",
      "Consider scattering data ahead of time and using futures.\n",
      "  warnings.warn(\n"
     ]
    },
    {
     "ename": "KeyError",
     "evalue": "'Cannot create a colorbar when hue is None.'",
     "output_type": "error",
     "traceback": [
      "\u001b[0;31m---------------------------------------------------------------------------\u001b[0m",
      "\u001b[0;31mKeyError\u001b[0m                                  Traceback (most recent call last)",
      "Cell \u001b[0;32mIn[14], line 1\u001b[0m\n\u001b[0;32m----> 1\u001b[0m \u001b[43mds_freq_diff_NASC\u001b[49m\u001b[38;5;241;43m.\u001b[39;49m\u001b[43misel\u001b[49m\u001b[43m(\u001b[49m\u001b[43mchannel\u001b[49m\u001b[38;5;241;43m=\u001b[39;49m\u001b[38;5;241;43m0\u001b[39;49m\u001b[43m)\u001b[49m\u001b[38;5;241;43m.\u001b[39;49m\u001b[43mplot\u001b[49m\u001b[38;5;241;43m.\u001b[39;49m\u001b[43mscatter\u001b[49m\u001b[43m(\u001b[49m\n\u001b[1;32m      2\u001b[0m \u001b[43m    \u001b[49m\u001b[43mx\u001b[49m\u001b[38;5;241;43m=\u001b[39;49m\u001b[38;5;124;43m\"\u001b[39;49m\u001b[38;5;124;43mlongitude\u001b[39;49m\u001b[38;5;124;43m\"\u001b[39;49m\u001b[43m,\u001b[49m\n\u001b[1;32m      3\u001b[0m \u001b[43m    \u001b[49m\u001b[43my\u001b[49m\u001b[38;5;241;43m=\u001b[39;49m\u001b[38;5;124;43m\"\u001b[39;49m\u001b[38;5;124;43mlatitude\u001b[39;49m\u001b[38;5;124;43m\"\u001b[39;49m\u001b[43m,\u001b[49m\n\u001b[1;32m      4\u001b[0m \u001b[43m    \u001b[49m\u001b[43mc\u001b[49m\u001b[38;5;241;43m=\u001b[39;49m\u001b[43mds_freq_diff_NASC\u001b[49m\u001b[43m[\u001b[49m\u001b[38;5;124;43m\"\u001b[39;49m\u001b[38;5;124;43mNASC\u001b[39;49m\u001b[38;5;124;43m\"\u001b[39;49m\u001b[43m]\u001b[49m\u001b[38;5;241;43m.\u001b[39;49m\u001b[43misel\u001b[49m\u001b[43m(\u001b[49m\u001b[43mchannel\u001b[49m\u001b[38;5;241;43m=\u001b[39;49m\u001b[38;5;241;43m0\u001b[39;49m\u001b[43m)\u001b[49m\u001b[43m,\u001b[49m\n\u001b[1;32m      5\u001b[0m \u001b[43m    \u001b[49m\u001b[43mvmin\u001b[49m\u001b[38;5;241;43m=\u001b[39;49m\u001b[38;5;241;43m0\u001b[39;49m\u001b[43m,\u001b[49m\n\u001b[1;32m      6\u001b[0m \u001b[43m    \u001b[49m\u001b[43madd_colorbar\u001b[49m\u001b[38;5;241;43m=\u001b[39;49m\u001b[38;5;28;43;01mTrue\u001b[39;49;00m\n\u001b[1;32m      7\u001b[0m \u001b[43m)\u001b[49m\n",
      "File \u001b[0;32m~/miniforge3/envs/echopype/lib/python3.9/site-packages/xarray/plot/accessor.py:1048\u001b[0m, in \u001b[0;36mDatasetPlotAccessor.scatter\u001b[0;34m(self, *args, **kwargs)\u001b[0m\n\u001b[1;32m   1046\u001b[0m \u001b[38;5;129m@functools\u001b[39m\u001b[38;5;241m.\u001b[39mwraps(dataset_plot\u001b[38;5;241m.\u001b[39mscatter, assigned\u001b[38;5;241m=\u001b[39m(\u001b[38;5;124m\"\u001b[39m\u001b[38;5;124m__doc__\u001b[39m\u001b[38;5;124m\"\u001b[39m,))\n\u001b[1;32m   1047\u001b[0m \u001b[38;5;28;01mdef\u001b[39;00m \u001b[38;5;21mscatter\u001b[39m(\u001b[38;5;28mself\u001b[39m, \u001b[38;5;241m*\u001b[39margs, \u001b[38;5;241m*\u001b[39m\u001b[38;5;241m*\u001b[39mkwargs) \u001b[38;5;241m-\u001b[39m\u001b[38;5;241m>\u001b[39m PathCollection \u001b[38;5;241m|\u001b[39m FacetGrid[Dataset]:\n\u001b[0;32m-> 1048\u001b[0m     \u001b[38;5;28;01mreturn\u001b[39;00m \u001b[43mdataset_plot\u001b[49m\u001b[38;5;241;43m.\u001b[39;49m\u001b[43mscatter\u001b[49m\u001b[43m(\u001b[49m\u001b[38;5;28;43mself\u001b[39;49m\u001b[38;5;241;43m.\u001b[39;49m\u001b[43m_ds\u001b[49m\u001b[43m,\u001b[49m\u001b[43m \u001b[49m\u001b[38;5;241;43m*\u001b[39;49m\u001b[43margs\u001b[49m\u001b[43m,\u001b[49m\u001b[43m \u001b[49m\u001b[38;5;241;43m*\u001b[39;49m\u001b[38;5;241;43m*\u001b[39;49m\u001b[43mkwargs\u001b[49m\u001b[43m)\u001b[49m\n",
      "File \u001b[0;32m~/miniforge3/envs/echopype/lib/python3.9/site-packages/xarray/plot/dataset_plot.py:913\u001b[0m, in \u001b[0;36mscatter\u001b[0;34m(ds, x, y, z, hue, hue_style, markersize, linewidth, figsize, size, aspect, ax, row, col, col_wrap, xincrease, yincrease, add_legend, add_colorbar, add_labels, add_title, subplot_kws, xscale, yscale, xticks, yticks, xlim, ylim, cmap, vmin, vmax, norm, extend, levels, *args, **kwargs)\u001b[0m\n\u001b[1;32m    910\u001b[0m locals_\u001b[38;5;241m.\u001b[39mupdate(locals_\u001b[38;5;241m.\u001b[39mpop(\u001b[38;5;124m\"\u001b[39m\u001b[38;5;124mkwargs\u001b[39m\u001b[38;5;124m\"\u001b[39m, {}))\n\u001b[1;32m    911\u001b[0m da \u001b[38;5;241m=\u001b[39m _temp_dataarray(ds, y, locals_)\n\u001b[0;32m--> 913\u001b[0m \u001b[38;5;28;01mreturn\u001b[39;00m \u001b[43mda\u001b[49m\u001b[38;5;241;43m.\u001b[39;49m\u001b[43mplot\u001b[49m\u001b[38;5;241;43m.\u001b[39;49m\u001b[43mscatter\u001b[49m\u001b[43m(\u001b[49m\u001b[38;5;241;43m*\u001b[39;49m\u001b[43mlocals_\u001b[49m\u001b[38;5;241;43m.\u001b[39;49m\u001b[43mpop\u001b[49m\u001b[43m(\u001b[49m\u001b[38;5;124;43m\"\u001b[39;49m\u001b[38;5;124;43margs\u001b[39;49m\u001b[38;5;124;43m\"\u001b[39;49m\u001b[43m,\u001b[49m\u001b[43m \u001b[49m\u001b[43m(\u001b[49m\u001b[43m)\u001b[49m\u001b[43m)\u001b[49m\u001b[43m,\u001b[49m\u001b[43m \u001b[49m\u001b[38;5;241;43m*\u001b[39;49m\u001b[38;5;241;43m*\u001b[39;49m\u001b[43mlocals_\u001b[49m\u001b[43m)\u001b[49m\n",
      "File \u001b[0;32m~/miniforge3/envs/echopype/lib/python3.9/site-packages/xarray/plot/accessor.py:300\u001b[0m, in \u001b[0;36mDataArrayPlotAccessor.scatter\u001b[0;34m(self, *args, **kwargs)\u001b[0m\n\u001b[1;32m    298\u001b[0m \u001b[38;5;129m@functools\u001b[39m\u001b[38;5;241m.\u001b[39mwraps(dataarray_plot\u001b[38;5;241m.\u001b[39mscatter, assigned\u001b[38;5;241m=\u001b[39m(\u001b[38;5;124m\"\u001b[39m\u001b[38;5;124m__doc__\u001b[39m\u001b[38;5;124m\"\u001b[39m,))\n\u001b[1;32m    299\u001b[0m \u001b[38;5;28;01mdef\u001b[39;00m \u001b[38;5;21mscatter\u001b[39m(\u001b[38;5;28mself\u001b[39m, \u001b[38;5;241m*\u001b[39margs, \u001b[38;5;241m*\u001b[39m\u001b[38;5;241m*\u001b[39mkwargs) \u001b[38;5;241m-\u001b[39m\u001b[38;5;241m>\u001b[39m PathCollection \u001b[38;5;241m|\u001b[39m FacetGrid[DataArray]:\n\u001b[0;32m--> 300\u001b[0m     \u001b[38;5;28;01mreturn\u001b[39;00m \u001b[43mdataarray_plot\u001b[49m\u001b[38;5;241;43m.\u001b[39;49m\u001b[43mscatter\u001b[49m\u001b[43m(\u001b[49m\u001b[38;5;28;43mself\u001b[39;49m\u001b[38;5;241;43m.\u001b[39;49m\u001b[43m_da\u001b[49m\u001b[43m,\u001b[49m\u001b[43m \u001b[49m\u001b[38;5;241;43m*\u001b[39;49m\u001b[43margs\u001b[49m\u001b[43m,\u001b[49m\u001b[43m \u001b[49m\u001b[38;5;241;43m*\u001b[39;49m\u001b[38;5;241;43m*\u001b[39;49m\u001b[43mkwargs\u001b[49m\u001b[43m)\u001b[49m\n",
      "File \u001b[0;32m~/miniforge3/envs/echopype/lib/python3.9/site-packages/xarray/plot/dataarray_plot.py:1020\u001b[0m, in \u001b[0;36m_plot1d.<locals>.newplotfunc\u001b[0;34m(***failed resolving arguments***)\u001b[0m\n\u001b[1;32m   1017\u001b[0m \u001b[38;5;28;01mif\u001b[39;00m np\u001b[38;5;241m.\u001b[39many(np\u001b[38;5;241m.\u001b[39masarray(add_labels)) \u001b[38;5;129;01mand\u001b[39;00m add_title:\n\u001b[1;32m   1018\u001b[0m     ax\u001b[38;5;241m.\u001b[39mset_title(darray\u001b[38;5;241m.\u001b[39m_title_for_slice())\n\u001b[0;32m-> 1020\u001b[0m add_colorbar_, add_legend_ \u001b[38;5;241m=\u001b[39m \u001b[43m_determine_guide\u001b[49m\u001b[43m(\u001b[49m\n\u001b[1;32m   1021\u001b[0m \u001b[43m    \u001b[49m\u001b[43mhueplt_norm\u001b[49m\u001b[43m,\u001b[49m\n\u001b[1;32m   1022\u001b[0m \u001b[43m    \u001b[49m\u001b[43msizeplt_norm\u001b[49m\u001b[43m,\u001b[49m\n\u001b[1;32m   1023\u001b[0m \u001b[43m    \u001b[49m\u001b[43madd_colorbar\u001b[49m\u001b[43m,\u001b[49m\n\u001b[1;32m   1024\u001b[0m \u001b[43m    \u001b[49m\u001b[43madd_legend\u001b[49m\u001b[43m,\u001b[49m\n\u001b[1;32m   1025\u001b[0m \u001b[43m    \u001b[49m\u001b[43mplotfunc_name\u001b[49m\u001b[38;5;241;43m=\u001b[39;49m\u001b[43mplotfunc\u001b[49m\u001b[38;5;241;43m.\u001b[39;49m\u001b[38;5;18;43m__name__\u001b[39;49m\u001b[43m,\u001b[49m\n\u001b[1;32m   1026\u001b[0m \u001b[43m\u001b[49m\u001b[43m)\u001b[49m\n\u001b[1;32m   1028\u001b[0m \u001b[38;5;28;01mif\u001b[39;00m add_colorbar_:\n\u001b[1;32m   1029\u001b[0m     \u001b[38;5;28;01mif\u001b[39;00m \u001b[38;5;124m\"\u001b[39m\u001b[38;5;124mlabel\u001b[39m\u001b[38;5;124m\"\u001b[39m \u001b[38;5;129;01mnot\u001b[39;00m \u001b[38;5;129;01min\u001b[39;00m cbar_kwargs:\n",
      "File \u001b[0;32m~/miniforge3/envs/echopype/lib/python3.9/site-packages/xarray/plot/utils.py:1674\u001b[0m, in \u001b[0;36m_determine_guide\u001b[0;34m(hueplt_norm, sizeplt_norm, add_colorbar, add_legend, plotfunc_name)\u001b[0m\n\u001b[1;32m   1671\u001b[0m     \u001b[38;5;28;01mreturn\u001b[39;00m \u001b[38;5;28;01mFalse\u001b[39;00m, \u001b[38;5;28;01mFalse\u001b[39;00m\n\u001b[1;32m   1673\u001b[0m \u001b[38;5;28;01mif\u001b[39;00m (add_colorbar) \u001b[38;5;129;01mand\u001b[39;00m hueplt_norm\u001b[38;5;241m.\u001b[39mdata \u001b[38;5;129;01mis\u001b[39;00m \u001b[38;5;28;01mNone\u001b[39;00m:\n\u001b[0;32m-> 1674\u001b[0m     \u001b[38;5;28;01mraise\u001b[39;00m \u001b[38;5;167;01mKeyError\u001b[39;00m(\u001b[38;5;124m\"\u001b[39m\u001b[38;5;124mCannot create a colorbar when hue is None.\u001b[39m\u001b[38;5;124m\"\u001b[39m)\n\u001b[1;32m   1675\u001b[0m \u001b[38;5;28;01mif\u001b[39;00m add_colorbar \u001b[38;5;129;01mis\u001b[39;00m \u001b[38;5;28;01mNone\u001b[39;00m:\n\u001b[1;32m   1676\u001b[0m     \u001b[38;5;28;01mif\u001b[39;00m hueplt_norm\u001b[38;5;241m.\u001b[39mdata \u001b[38;5;129;01mis\u001b[39;00m \u001b[38;5;129;01mnot\u001b[39;00m \u001b[38;5;28;01mNone\u001b[39;00m:\n",
      "\u001b[0;31mKeyError\u001b[0m: 'Cannot create a colorbar when hue is None.'"
     ]
    }
   ],
   "source": [
    "ds_freq_diff_NASC.isel(channel=0).plot.scatter(\n",
    "    x=\"longitude\",\n",
    "    y=\"latitude\",\n",
    "    c=ds_freq_diff_NASC[\"NASC\"].isel(channel=0),\n",
    "    vmin=0,\n",
    "    #add_colorbar=True\n",
    ")"
   ]
  }
 ],
 "metadata": {
  "kernelspec": {
   "display_name": "echopype",
   "language": "python",
   "name": "python3"
  },
  "language_info": {
   "codemirror_mode": {
    "name": "ipython",
    "version": 3
   },
   "file_extension": ".py",
   "mimetype": "text/x-python",
   "name": "python",
   "nbconvert_exporter": "python",
   "pygments_lexer": "ipython3",
   "version": "3.9.19"
  },
  "toc-autonumbering": true
 },
 "nbformat": 4,
 "nbformat_minor": 4
}
