{
 "cells": [
  {
   "cell_type": "markdown",
   "id": "nutritional-minute",
   "metadata": {},
   "source": [
    "# Echopype examples notebooks\n",
    "\n",
    "https://github.com/OSOceanAcoustics/echopype-examples/"
   ]
  },
  {
   "cell_type": "markdown",
   "id": "rental-setup",
   "metadata": {},
   "source": [
    "- [echopype_tour.ipynb](echopype_tour.ipynb). A quick tour of core echopype capabilities.\n",
    "- [ms_PacificHake_EK60_cruisetracks.ipynb](ms_PacificHake_EK60_cruisetracks.ipynb). Exploring ship echosounder data from the Pacific Hake survey. Goals:\n",
    "    1. Illustrate a common workflow for echosounder data conversion, calibration and use.\n",
    "    2. Extract and visualize echosounder data (EK60) with relative ease using geospatial and temporal filters. \n",
    "- [ms_OOI_EK60_mooringtimeseries.ipynb](ms_OOI_EK60_mooringtimeseries.ipynb). Wacthing a solar eclipse using a moored echosounder. Goals:\n",
    "    1. Illustrate a common workflow for echosounder data conversion, calibration and use.\n",
    "    2. Demonstrate the ease to interoperate echosounder data (EK60) with those from a different instrument in a single computing environment. Without echopype, additional wrangling across more than one software systems is needed to achieve the same visualization and comparison."
   ]
  },
  {
   "cell_type": "code",
   "execution_count": null,
   "id": "supposed-india",
   "metadata": {},
   "outputs": [],
   "source": []
  }
 ],
 "metadata": {
  "kernelspec": {
   "display_name": "Python 3",
   "language": "python",
   "name": "python3"
  },
  "language_info": {
   "codemirror_mode": {
    "name": "ipython",
    "version": 3
   },
   "file_extension": ".py",
   "mimetype": "text/x-python",
   "name": "python",
   "nbconvert_exporter": "python",
   "pygments_lexer": "ipython3",
   "version": "3.7.6"
  }
 },
 "nbformat": 4,
 "nbformat_minor": 5
}
